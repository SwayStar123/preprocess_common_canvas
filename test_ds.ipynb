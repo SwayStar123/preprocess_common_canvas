{
 "cells": [
  {
   "cell_type": "code",
   "execution_count": 32,
   "metadata": {},
   "outputs": [],
   "source": [
    "from datasets import load_from_disk\n",
    "import torch\n",
    "from diffusers import AutoencoderKL\n",
    "from PIL import Image\n",
    "import numpy as np"
   ]
  },
  {
   "cell_type": "code",
   "execution_count": 9,
   "metadata": {},
   "outputs": [],
   "source": [
    "vae = AutoencoderKL.from_pretrained(\"KBlueLeaf/EQ-SDXL-VAE\", cache_dir=\"../../models/vae\").cuda().to(torch.bfloat16)\n"
   ]
  },
  {
   "cell_type": "code",
   "execution_count": 5,
   "metadata": {},
   "outputs": [],
   "source": [
    "ds = load_from_disk(\"imagenet1k_eqsdxlvae_latents\")\n",
    "ds = iter(ds)"
   ]
  },
  {
   "cell_type": "code",
   "execution_count": 43,
   "metadata": {},
   "outputs": [
    {
     "name": "stdout",
     "output_type": "stream",
     "text": [
      "torch.Size([1, 4, 28, 36])\n",
      "torch.Size([1, 3, 224, 288])\n"
     ]
    }
   ],
   "source": [
    "row = next(ds)\n",
    "lats = row[\"vae_latent\"]\n",
    "\n",
    "with torch.no_grad():\n",
    "    lats = torch.tensor(lats, dtype=torch.uint8)\n",
    "\n",
    "    lats = lats.view(torch.float8_e5m2).to(\"cuda\", torch.bfloat16).unsqueeze(0)\n",
    "    image = vae.decode(lats).sample.to(\"cpu\", torch.float32)\n",
    "\n",
    "    print(lats.shape)\n",
    "    print(image.shape)\n",
    "\n",
    "    image = image.clamp(-1, 1)\n",
    "    image = image.cpu().numpy()\n",
    "    image = (image * 0.5 + 0.5) * 255\n",
    "    image = image.astype(np.uint8)\n",
    "    image = image.squeeze(0)  # Remove batch dimension\n",
    "    image = image.transpose(1, 2, 0)  # Change from CHW to HWC format\n",
    "\n",
    "    image = Image.fromarray(image)\n",
    "    image.show()\n"
   ]
  }
 ],
 "metadata": {
  "kernelspec": {
   "display_name": "Python 3",
   "language": "python",
   "name": "python3"
  },
  "language_info": {
   "codemirror_mode": {
    "name": "ipython",
    "version": 3
   },
   "file_extension": ".py",
   "mimetype": "text/x-python",
   "name": "python",
   "nbconvert_exporter": "python",
   "pygments_lexer": "ipython3",
   "version": "3.12.4"
  }
 },
 "nbformat": 4,
 "nbformat_minor": 2
}
